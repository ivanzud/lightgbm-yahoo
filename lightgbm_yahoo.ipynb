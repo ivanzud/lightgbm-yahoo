{
 "cells": [
  {
   "cell_type": "code",
   "execution_count": 5,
   "id": "96f49b02",
   "metadata": {},
   "outputs": [
    {
     "name": "stdout",
     "output_type": "stream",
     "text": [
      "Requirement already satisfied: yfinance in /Users/ivan/miniforge3/envs/my-conda-env/lib/python3.11/site-packages (0.2.3)\n",
      "Requirement already satisfied: pandas>=1.3.0 in /Users/ivan/miniforge3/envs/my-conda-env/lib/python3.11/site-packages (from yfinance) (1.3.5)\n",
      "Requirement already satisfied: numpy>=1.16.5 in /Users/ivan/miniforge3/envs/my-conda-env/lib/python3.11/site-packages (from yfinance) (1.24.1)\n",
      "Requirement already satisfied: requests>=2.26 in /Users/ivan/miniforge3/envs/my-conda-env/lib/python3.11/site-packages (from yfinance) (2.28.1)\n",
      "Requirement already satisfied: multitasking>=0.0.7 in /Users/ivan/miniforge3/envs/my-conda-env/lib/python3.11/site-packages (from yfinance) (0.0.11)\n",
      "Requirement already satisfied: lxml>=4.9.1 in /Users/ivan/miniforge3/envs/my-conda-env/lib/python3.11/site-packages (from yfinance) (4.9.2)\n",
      "Requirement already satisfied: appdirs>=1.4.4 in /Users/ivan/miniforge3/envs/my-conda-env/lib/python3.11/site-packages (from yfinance) (1.4.4)\n",
      "Requirement already satisfied: pytz>=2022.5 in /Users/ivan/miniforge3/envs/my-conda-env/lib/python3.11/site-packages (from yfinance) (2022.7)\n",
      "Requirement already satisfied: frozendict>=2.3.4 in /Users/ivan/miniforge3/envs/my-conda-env/lib/python3.11/site-packages (from yfinance) (2.3.4)\n",
      "Requirement already satisfied: cryptography>=3.3.2 in /Users/ivan/miniforge3/envs/my-conda-env/lib/python3.11/site-packages (from yfinance) (39.0.0)\n",
      "Requirement already satisfied: beautifulsoup4>=4.11.1 in /Users/ivan/miniforge3/envs/my-conda-env/lib/python3.11/site-packages (from yfinance) (4.11.1)\n",
      "Requirement already satisfied: html5lib>=1.1 in /Users/ivan/miniforge3/envs/my-conda-env/lib/python3.11/site-packages (from yfinance) (1.1)\n",
      "Requirement already satisfied: soupsieve>1.2 in /Users/ivan/miniforge3/envs/my-conda-env/lib/python3.11/site-packages (from beautifulsoup4>=4.11.1->yfinance) (2.3.2.post1)\n",
      "Requirement already satisfied: cffi>=1.12 in /Users/ivan/miniforge3/envs/my-conda-env/lib/python3.11/site-packages (from cryptography>=3.3.2->yfinance) (1.15.1)\n",
      "Requirement already satisfied: six>=1.9 in /Users/ivan/miniforge3/envs/my-conda-env/lib/python3.11/site-packages (from html5lib>=1.1->yfinance) (1.16.0)\n",
      "Requirement already satisfied: webencodings in /Users/ivan/miniforge3/envs/my-conda-env/lib/python3.11/site-packages (from html5lib>=1.1->yfinance) (0.5.1)\n",
      "Requirement already satisfied: python-dateutil>=2.7.3 in /Users/ivan/miniforge3/envs/my-conda-env/lib/python3.11/site-packages (from pandas>=1.3.0->yfinance) (2.8.2)\n",
      "Requirement already satisfied: charset-normalizer<3,>=2 in /Users/ivan/miniforge3/envs/my-conda-env/lib/python3.11/site-packages (from requests>=2.26->yfinance) (2.1.1)\n",
      "Requirement already satisfied: idna<4,>=2.5 in /Users/ivan/miniforge3/envs/my-conda-env/lib/python3.11/site-packages (from requests>=2.26->yfinance) (3.4)\n",
      "Requirement already satisfied: urllib3<1.27,>=1.21.1 in /Users/ivan/miniforge3/envs/my-conda-env/lib/python3.11/site-packages (from requests>=2.26->yfinance) (1.26.13)\n",
      "Requirement already satisfied: certifi>=2017.4.17 in /Users/ivan/miniforge3/envs/my-conda-env/lib/python3.11/site-packages (from requests>=2.26->yfinance) (2022.12.7)\n",
      "Requirement already satisfied: pycparser in /Users/ivan/miniforge3/envs/my-conda-env/lib/python3.11/site-packages (from cffi>=1.12->cryptography>=3.3.2->yfinance) (2.21)\n",
      "Requirement already satisfied: pandas==1.3.5 in /Users/ivan/miniforge3/envs/my-conda-env/lib/python3.11/site-packages (1.3.5)\n",
      "Requirement already satisfied: python-dateutil>=2.7.3 in /Users/ivan/miniforge3/envs/my-conda-env/lib/python3.11/site-packages (from pandas==1.3.5) (2.8.2)\n",
      "Requirement already satisfied: pytz>=2017.3 in /Users/ivan/miniforge3/envs/my-conda-env/lib/python3.11/site-packages (from pandas==1.3.5) (2022.7)\n",
      "Requirement already satisfied: numpy>=1.21.0 in /Users/ivan/miniforge3/envs/my-conda-env/lib/python3.11/site-packages (from pandas==1.3.5) (1.24.1)\n",
      "Requirement already satisfied: six>=1.5 in /Users/ivan/miniforge3/envs/my-conda-env/lib/python3.11/site-packages (from python-dateutil>=2.7.3->pandas==1.3.5) (1.16.0)\n"
     ]
    }
   ],
   "source": [
    "import sys\n",
    "!{sys.executable} -m pip install yfinance --upgrade --no-cache-dir \n",
    "!{sys.executable} -m pip install pandas==1.3.5\n",
    "# !pip install lxml\n",
    "# !pip install -i https://pypi.anaconda.org/ranaroussi/simple yfinance #on anaconda"
   ]
  },
  {
   "cell_type": "code",
   "execution_count": 6,
   "id": "22690a8a",
   "metadata": {},
   "outputs": [],
   "source": [
    "import yfinance as yf\n",
    "import pandas as pd\n",
    "import matplotlib.pyplot as plt"
   ]
  },
  {
   "cell_type": "code",
   "execution_count": 7,
   "id": "83c45bf3",
   "metadata": {},
   "outputs": [],
   "source": [
    "msft = yf.Ticker(\"MSFT\")\n",
    "df = msft.history(start=\"2013-01-01\", end=\"2023-01-01\",interval=\"1d\")"
   ]
  },
  {
   "cell_type": "code",
   "execution_count": 8,
   "id": "66277500",
   "metadata": {},
   "outputs": [
    {
     "data": {
      "text/html": [
       "<div>\n",
       "<style scoped>\n",
       "    .dataframe tbody tr th:only-of-type {\n",
       "        vertical-align: middle;\n",
       "    }\n",
       "\n",
       "    .dataframe tbody tr th {\n",
       "        vertical-align: top;\n",
       "    }\n",
       "\n",
       "    .dataframe thead th {\n",
       "        text-align: right;\n",
       "    }\n",
       "</style>\n",
       "<table border=\"1\" class=\"dataframe\">\n",
       "  <thead>\n",
       "    <tr style=\"text-align: right;\">\n",
       "      <th></th>\n",
       "      <th>Open</th>\n",
       "      <th>High</th>\n",
       "      <th>Low</th>\n",
       "      <th>Close</th>\n",
       "      <th>Volume</th>\n",
       "      <th>Dividends</th>\n",
       "      <th>Stock Splits</th>\n",
       "    </tr>\n",
       "    <tr>\n",
       "      <th>Date</th>\n",
       "      <th></th>\n",
       "      <th></th>\n",
       "      <th></th>\n",
       "      <th></th>\n",
       "      <th></th>\n",
       "      <th></th>\n",
       "      <th></th>\n",
       "    </tr>\n",
       "  </thead>\n",
       "  <tbody>\n",
       "    <tr>\n",
       "      <th>2013-01-02 00:00:00-05:00</th>\n",
       "      <td>22.469591</td>\n",
       "      <td>22.865385</td>\n",
       "      <td>22.387133</td>\n",
       "      <td>22.774683</td>\n",
       "      <td>52899300</td>\n",
       "      <td>0.0</td>\n",
       "      <td>0.0</td>\n",
       "    </tr>\n",
       "    <tr>\n",
       "      <th>2013-01-03 00:00:00-05:00</th>\n",
       "      <td>22.782934</td>\n",
       "      <td>22.799425</td>\n",
       "      <td>22.395385</td>\n",
       "      <td>22.469597</td>\n",
       "      <td>48294400</td>\n",
       "      <td>0.0</td>\n",
       "      <td>0.0</td>\n",
       "    </tr>\n",
       "    <tr>\n",
       "      <th>2013-01-04 00:00:00-05:00</th>\n",
       "      <td>22.486085</td>\n",
       "      <td>22.543804</td>\n",
       "      <td>22.040815</td>\n",
       "      <td>22.049061</td>\n",
       "      <td>52521100</td>\n",
       "      <td>0.0</td>\n",
       "      <td>0.0</td>\n",
       "    </tr>\n",
       "    <tr>\n",
       "      <th>2013-01-07 00:00:00-05:00</th>\n",
       "      <td>22.073795</td>\n",
       "      <td>22.164497</td>\n",
       "      <td>21.966600</td>\n",
       "      <td>22.007830</td>\n",
       "      <td>37110400</td>\n",
       "      <td>0.0</td>\n",
       "      <td>0.0</td>\n",
       "    </tr>\n",
       "    <tr>\n",
       "      <th>2013-01-08 00:00:00-05:00</th>\n",
       "      <td>22.057306</td>\n",
       "      <td>22.090290</td>\n",
       "      <td>21.818180</td>\n",
       "      <td>21.892391</td>\n",
       "      <td>44703100</td>\n",
       "      <td>0.0</td>\n",
       "      <td>0.0</td>\n",
       "    </tr>\n",
       "    <tr>\n",
       "      <th>...</th>\n",
       "      <td>...</td>\n",
       "      <td>...</td>\n",
       "      <td>...</td>\n",
       "      <td>...</td>\n",
       "      <td>...</td>\n",
       "      <td>...</td>\n",
       "      <td>...</td>\n",
       "    </tr>\n",
       "    <tr>\n",
       "      <th>2022-12-23 00:00:00-05:00</th>\n",
       "      <td>236.110001</td>\n",
       "      <td>238.869995</td>\n",
       "      <td>233.940002</td>\n",
       "      <td>238.729996</td>\n",
       "      <td>21207000</td>\n",
       "      <td>0.0</td>\n",
       "      <td>0.0</td>\n",
       "    </tr>\n",
       "    <tr>\n",
       "      <th>2022-12-27 00:00:00-05:00</th>\n",
       "      <td>238.699997</td>\n",
       "      <td>238.929993</td>\n",
       "      <td>235.830002</td>\n",
       "      <td>236.960007</td>\n",
       "      <td>16688600</td>\n",
       "      <td>0.0</td>\n",
       "      <td>0.0</td>\n",
       "    </tr>\n",
       "    <tr>\n",
       "      <th>2022-12-28 00:00:00-05:00</th>\n",
       "      <td>236.889999</td>\n",
       "      <td>239.720001</td>\n",
       "      <td>234.169998</td>\n",
       "      <td>234.529999</td>\n",
       "      <td>17457100</td>\n",
       "      <td>0.0</td>\n",
       "      <td>0.0</td>\n",
       "    </tr>\n",
       "    <tr>\n",
       "      <th>2022-12-29 00:00:00-05:00</th>\n",
       "      <td>235.649994</td>\n",
       "      <td>241.919998</td>\n",
       "      <td>235.649994</td>\n",
       "      <td>241.009995</td>\n",
       "      <td>19770700</td>\n",
       "      <td>0.0</td>\n",
       "      <td>0.0</td>\n",
       "    </tr>\n",
       "    <tr>\n",
       "      <th>2022-12-30 00:00:00-05:00</th>\n",
       "      <td>238.210007</td>\n",
       "      <td>239.960007</td>\n",
       "      <td>236.660004</td>\n",
       "      <td>239.820007</td>\n",
       "      <td>21930800</td>\n",
       "      <td>0.0</td>\n",
       "      <td>0.0</td>\n",
       "    </tr>\n",
       "  </tbody>\n",
       "</table>\n",
       "<p>2518 rows × 7 columns</p>\n",
       "</div>"
      ],
      "text/plain": [
       "                                 Open        High         Low       Close  \\\n",
       "Date                                                                        \n",
       "2013-01-02 00:00:00-05:00   22.469591   22.865385   22.387133   22.774683   \n",
       "2013-01-03 00:00:00-05:00   22.782934   22.799425   22.395385   22.469597   \n",
       "2013-01-04 00:00:00-05:00   22.486085   22.543804   22.040815   22.049061   \n",
       "2013-01-07 00:00:00-05:00   22.073795   22.164497   21.966600   22.007830   \n",
       "2013-01-08 00:00:00-05:00   22.057306   22.090290   21.818180   21.892391   \n",
       "...                               ...         ...         ...         ...   \n",
       "2022-12-23 00:00:00-05:00  236.110001  238.869995  233.940002  238.729996   \n",
       "2022-12-27 00:00:00-05:00  238.699997  238.929993  235.830002  236.960007   \n",
       "2022-12-28 00:00:00-05:00  236.889999  239.720001  234.169998  234.529999   \n",
       "2022-12-29 00:00:00-05:00  235.649994  241.919998  235.649994  241.009995   \n",
       "2022-12-30 00:00:00-05:00  238.210007  239.960007  236.660004  239.820007   \n",
       "\n",
       "                             Volume  Dividends  Stock Splits  \n",
       "Date                                                          \n",
       "2013-01-02 00:00:00-05:00  52899300        0.0           0.0  \n",
       "2013-01-03 00:00:00-05:00  48294400        0.0           0.0  \n",
       "2013-01-04 00:00:00-05:00  52521100        0.0           0.0  \n",
       "2013-01-07 00:00:00-05:00  37110400        0.0           0.0  \n",
       "2013-01-08 00:00:00-05:00  44703100        0.0           0.0  \n",
       "...                             ...        ...           ...  \n",
       "2022-12-23 00:00:00-05:00  21207000        0.0           0.0  \n",
       "2022-12-27 00:00:00-05:00  16688600        0.0           0.0  \n",
       "2022-12-28 00:00:00-05:00  17457100        0.0           0.0  \n",
       "2022-12-29 00:00:00-05:00  19770700        0.0           0.0  \n",
       "2022-12-30 00:00:00-05:00  21930800        0.0           0.0  \n",
       "\n",
       "[2518 rows x 7 columns]"
      ]
     },
     "execution_count": 8,
     "metadata": {},
     "output_type": "execute_result"
    }
   ],
   "source": [
    "df"
   ]
  },
  {
   "cell_type": "code",
   "execution_count": 9,
   "id": "033aaade",
   "metadata": {},
   "outputs": [],
   "source": [
    "df['30_SMA'] = df['Close'].rolling(30).mean()\n",
    "df['60_SMA'] = df['Close'].rolling(60).mean()\n",
    "df['90_SMA'] = df['Close'].rolling(90).mean()"
   ]
  },
  {
   "cell_type": "code",
   "execution_count": 10,
   "id": "565ed571",
   "metadata": {},
   "outputs": [
    {
     "data": {
      "text/plain": [
       "Date\n",
       "2013-01-02 00:00:00-05:00           NaN\n",
       "2013-01-03 00:00:00-05:00           NaN\n",
       "2013-01-04 00:00:00-05:00           NaN\n",
       "2013-01-07 00:00:00-05:00           NaN\n",
       "2013-01-08 00:00:00-05:00           NaN\n",
       "                                ...    \n",
       "2022-12-23 00:00:00-05:00    245.958558\n",
       "2022-12-27 00:00:00-05:00    245.643373\n",
       "2022-12-28 00:00:00-05:00    245.432000\n",
       "2022-12-29 00:00:00-05:00    245.422666\n",
       "2022-12-30 00:00:00-05:00    245.359000\n",
       "Name: 30_SMA, Length: 2518, dtype: float64"
      ]
     },
     "execution_count": 10,
     "metadata": {},
     "output_type": "execute_result"
    }
   ],
   "source": [
    "df['30_SMA']"
   ]
  },
  {
   "cell_type": "code",
   "execution_count": 11,
   "id": "b79ecdb9",
   "metadata": {},
   "outputs": [
    {
     "data": {
      "text/plain": [
       "Date\n",
       "2013-01-02 00:00:00-05:00           NaN\n",
       "2013-01-03 00:00:00-05:00           NaN\n",
       "2013-01-04 00:00:00-05:00           NaN\n",
       "2013-01-07 00:00:00-05:00           NaN\n",
       "2013-01-08 00:00:00-05:00           NaN\n",
       "                                ...    \n",
       "2022-12-23 00:00:00-05:00    239.631534\n",
       "2022-12-27 00:00:00-05:00    239.710109\n",
       "2022-12-28 00:00:00-05:00    239.617885\n",
       "2022-12-29 00:00:00-05:00    239.498375\n",
       "2022-12-30 00:00:00-05:00    239.353714\n",
       "Name: 60_SMA, Length: 2518, dtype: float64"
      ]
     },
     "execution_count": 11,
     "metadata": {},
     "output_type": "execute_result"
    }
   ],
   "source": [
    "df['60_SMA']"
   ]
  },
  {
   "cell_type": "code",
   "execution_count": 12,
   "id": "e9ac924e",
   "metadata": {},
   "outputs": [
    {
     "data": {
      "text/plain": [
       "Date\n",
       "2013-01-02 00:00:00-05:00           NaN\n",
       "2013-01-03 00:00:00-05:00           NaN\n",
       "2013-01-04 00:00:00-05:00           NaN\n",
       "2013-01-07 00:00:00-05:00           NaN\n",
       "2013-01-08 00:00:00-05:00           NaN\n",
       "                                ...    \n",
       "2022-12-23 00:00:00-05:00    245.201553\n",
       "2022-12-27 00:00:00-05:00    244.619391\n",
       "2022-12-28 00:00:00-05:00    244.054770\n",
       "2022-12-29 00:00:00-05:00    243.655221\n",
       "2022-12-30 00:00:00-05:00    243.256964\n",
       "Name: 90_SMA, Length: 2518, dtype: float64"
      ]
     },
     "execution_count": 12,
     "metadata": {},
     "output_type": "execute_result"
    }
   ],
   "source": [
    "df['90_SMA']"
   ]
  },
  {
   "cell_type": "code",
   "execution_count": 13,
   "id": "3cdcb571",
   "metadata": {},
   "outputs": [],
   "source": [
    "df['Daily_Range'] = (df['High'] - df['Low']) / df['Open'] * 100"
   ]
  },
  {
   "cell_type": "code",
   "execution_count": 14,
   "id": "a257198e",
   "metadata": {},
   "outputs": [
    {
     "data": {
      "text/plain": [
       "Date\n",
       "2013-01-02 00:00:00-05:00    2.128440\n",
       "2013-01-03 00:00:00-05:00    1.773434\n",
       "2013-01-04 00:00:00-05:00    2.236893\n",
       "2013-01-07 00:00:00-05:00    0.896525\n",
       "2013-01-08 00:00:00-05:00    1.233652\n",
       "                               ...   \n",
       "2022-12-23 00:00:00-05:00    2.088007\n",
       "2022-12-27 00:00:00-05:00    1.298697\n",
       "2022-12-28 00:00:00-05:00    2.342861\n",
       "2022-12-29 00:00:00-05:00    2.660728\n",
       "2022-12-30 00:00:00-05:00    1.385334\n",
       "Name: Daily_Range, Length: 2518, dtype: float64"
      ]
     },
     "execution_count": 14,
     "metadata": {},
     "output_type": "execute_result"
    }
   ],
   "source": [
    "df['Daily_Range']"
   ]
  },
  {
   "cell_type": "code",
   "execution_count": 15,
   "id": "11861781",
   "metadata": {},
   "outputs": [
    {
     "data": {
      "image/png": "[encoded data removed]",
      "text/plain": [
       "<Figure size 640x480 with 1 Axes>"
      ]
     },
     "metadata": {},
     "output_type": "display_data"
    }
   ],
   "source": [
    "plt.plot(df['Close'], label='Close')\n",
    "plt.plot(df['30_SMA'], label='30_SMA')\n",
    "plt.plot(df['60_SMA'], label='60_SMA')\n",
    "plt.plot(df['90_SMA'], label='90_SMA')\n",
    "plt.legend()\n",
    "plt.show()"
   ]
  },
  {
   "cell_type": "code",
   "execution_count": 16,
   "id": "746c679b",
   "metadata": {},
   "outputs": [
    {
     "data": {
      "image/png": "[encoded data removed]",
      "text/plain": [
       "<Figure size 640x480 with 1 Axes>"
      ]
     },
     "metadata": {},
     "output_type": "display_data"
    }
   ],
   "source": [
    "plt.hist(df['Daily_Range'])\n",
    "plt.xlabel('Daily Range')\n",
    "plt.ylabel('Frequency')\n",
    "plt.show()"
   ]
  },
  {
   "cell_type": "markdown",
   "id": "9730b844",
   "metadata": {},
   "source": [
    "There are several options that can be used to model future prices. Linear regression, SVMs (support vector machines), decision trees are all possible methods. I am using lightgbm as it uses a leaf-wise approach compared to other algorithms where they do a level-wise approach resulting in higher accuracy. Lightgbm is commonly used as a fast gradient boosting framework."
   ]
  },
  {
   "cell_type": "code",
   "execution_count": 17,
   "id": "1050256a",
   "metadata": {},
   "outputs": [
    {
     "name": "stdout",
     "output_type": "stream",
     "text": [
      "Collecting package metadata (current_repodata.json): done\n",
      "Solving environment: done\n",
      "\n",
      "\n",
      "==> WARNING: A newer version of conda exists. <==\n",
      "  current version: 4.12.0\n",
      "  latest version: 22.11.1\n",
      "\n",
      "Please update conda by running\n",
      "\n",
      "    $ conda update -n base conda\n",
      "\n",
      "\n",
      "\n",
      "# All requested packages already installed.\n",
      "\n"
     ]
    }
   ],
   "source": [
    "!conda install lightgbm"
   ]
  },
  {
   "cell_type": "code",
   "execution_count": 27,
   "id": "d3457978",
   "metadata": {},
   "outputs": [],
   "source": [
    "import lightgbm as lgb\n",
    "from sklearn.model_selection import train_test_split\n",
    "from sklearn.preprocessing import StandardScaler\n",
    "from sklearn.model_selection import GridSearchCV"
   ]
  },
  {
   "cell_type": "code",
   "execution_count": 24,
   "id": "0027db82",
   "metadata": {},
   "outputs": [],
   "source": [
    "X = df.drop(columns=['Close'])\n",
    "y = df['Close']"
   ]
  },
  {
   "cell_type": "code",
   "execution_count": null,
   "id": "1ae5e356",
   "metadata": {},
   "outputs": [],
   "source": [
    "# Splitting data into training, validation, and test sets"
   ]
  },
  {
   "cell_type": "code",
   "execution_count": 25,
   "id": "df68a1f3",
   "metadata": {},
   "outputs": [],
   "source": [
    "X_train, X_test, y_train, y_test = train_test_split(X, y, test_size=0.2, random_state=42)\n",
    "X_train, X_val, y_train, y_val = train_test_split(X_train, y_train, test_size=0.2, random_state=42)"
   ]
  },
  {
   "cell_type": "code",
   "execution_count": null,
   "id": "4364ef77",
   "metadata": {},
   "outputs": [],
   "source": [
    "# Performing feature engineering and scaling"
   ]
  },
  {
   "cell_type": "code",
   "execution_count": 26,
   "id": "3beff8ec",
   "metadata": {},
   "outputs": [],
   "source": [
    "scaler = StandardScaler()\n",
    "X_train = scaler.fit_transform(X_train)\n",
    "X_val = scaler.transform(X_val)\n",
    "X_test = scaler.transform(X_test)"
   ]
  },
  {
   "cell_type": "code",
   "execution_count": null,
   "id": "22c25b65",
   "metadata": {},
   "outputs": [],
   "source": [
    "# Tuning the hyperparameters using  the GridSearchCV function"
   ]
  },
  {
   "cell_type": "code",
   "execution_count": 28,
   "id": "ad54070f",
   "metadata": {},
   "outputs": [],
   "source": [
    "# Defining grid of hyperparameter values to search over\n",
    "param_grid = {\n",
    "    'learning_rate': [0.01, 0.1, 1],\n",
    "    'num_leaves': [30, 50, 70],\n",
    "    'n_estimators': [100, 200, 300]\n",
    "}"
   ]
  },
  {
   "cell_type": "code",
   "execution_count": 31,
   "id": "50e710a4",
   "metadata": {},
   "outputs": [
    {
     "data": {
      "text/html": [
       "<style>#sk-container-id-2 {color: black;background-color: white;}#sk-container-id-2 pre{padding: 0;}#sk-container-id-2 div.sk-toggleable {background-color: white;}#sk-container-id-2 label.sk-toggleable__label {cursor: pointer;display: block;width: 100%;margin-bottom: 0;padding: 0.3em;box-sizing: border-box;text-align: center;}#sk-container-id-2 label.sk-toggleable__label-arrow:before {content: \"▸\";float: left;margin-right: 0.25em;color: #696969;}#sk-container-id-2 label.sk-toggleable__label-arrow:hover:before {color: black;}#sk-container-id-2 div.sk-estimator:hover label.sk-toggleable__label-arrow:before {color: black;}#sk-container-id-2 div.sk-toggleable__content {max-height: 0;max-width: 0;overflow: hidden;text-align: left;background-color: #f0f8ff;}#sk-container-id-2 div.sk-toggleable__content pre {margin: 0.2em;color: black;border-radius: 0.25em;background-color: #f0f8ff;}#sk-container-id-2 input.sk-toggleable__control:checked~div.sk-toggleable__content {max-height: 200px;max-width: 100%;overflow: auto;}#sk-container-id-2 input.sk-toggleable__control:checked~label.sk-toggleable__label-arrow:before {content: \"▾\";}#sk-container-id-2 div.sk-estimator input.sk-toggleable__control:checked~label.sk-toggleable__label {background-color: #d4ebff;}#sk-container-id-2 div.sk-label input.sk-toggleable__control:checked~label.sk-toggleable__label {background-color: #d4ebff;}#sk-container-id-2 input.sk-hidden--visually {border: 0;clip: rect(1px 1px 1px 1px);clip: rect(1px, 1px, 1px, 1px);height: 1px;margin: -1px;overflow: hidden;padding: 0;position: absolute;width: 1px;}#sk-container-id-2 div.sk-estimator {font-family: monospace;background-color: #f0f8ff;border: 1px dotted black;border-radius: 0.25em;box-sizing: border-box;margin-bottom: 0.5em;}#sk-container-id-2 div.sk-estimator:hover {background-color: #d4ebff;}#sk-container-id-2 div.sk-parallel-item::after {content: \"\";width: 100%;border-bottom: 1px solid gray;flex-grow: 1;}#sk-container-id-2 div.sk-label:hover label.sk-toggleable__label {background-color: #d4ebff;}#sk-container-id-2 div.sk-serial::before {content: \"\";position: absolute;border-left: 1px solid gray;box-sizing: border-box;top: 0;bottom: 0;left: 50%;z-index: 0;}#sk-container-id-2 div.sk-serial {display: flex;flex-direction: column;align-items: center;background-color: white;padding-right: 0.2em;padding-left: 0.2em;position: relative;}#sk-container-id-2 div.sk-item {position: relative;z-index: 1;}#sk-container-id-2 div.sk-parallel {display: flex;align-items: stretch;justify-content: center;background-color: white;position: relative;}#sk-container-id-2 div.sk-item::before, #sk-container-id-2 div.sk-parallel-item::before {content: \"\";position: absolute;border-left: 1px solid gray;box-sizing: border-box;top: 0;bottom: 0;left: 50%;z-index: -1;}#sk-container-id-2 div.sk-parallel-item {display: flex;flex-direction: column;z-index: 1;position: relative;background-color: white;}#sk-container-id-2 div.sk-parallel-item:first-child::after {align-self: flex-end;width: 50%;}#sk-container-id-2 div.sk-parallel-item:last-child::after {align-self: flex-start;width: 50%;}#sk-container-id-2 div.sk-parallel-item:only-child::after {width: 0;}#sk-container-id-2 div.sk-dashed-wrapped {border: 1px dashed gray;margin: 0 0.4em 0.5em 0.4em;box-sizing: border-box;padding-bottom: 0.4em;background-color: white;}#sk-container-id-2 div.sk-label label {font-family: monospace;font-weight: bold;display: inline-block;line-height: 1.2em;}#sk-container-id-2 div.sk-label-container {text-align: center;}#sk-container-id-2 div.sk-container {/* jupyter's `normalize.less` sets `[hidden] { display: none; }` but bootstrap.min.css set `[hidden] { display: none !important; }` so we also need the `!important` here to be able to override the default hidden behavior on the sphinx rendered scikit-learn.org. See: https://github.com/scikit-learn/scikit-learn/issues/21755 */display: inline-block !important;position: relative;}#sk-container-id-2 div.sk-text-repr-fallback {display: none;}</style><div id=\"sk-container-id-2\" class=\"sk-top-container\"><div class=\"sk-text-repr-fallback\"><pre>GridSearchCV(cv=3, estimator=LGBMRegressor(),\n",
       "             param_grid={&#x27;learning_rate&#x27;: [0.01, 0.1, 1],\n",
       "                         &#x27;n_estimators&#x27;: [100, 200, 300],\n",
       "                         &#x27;num_leaves&#x27;: [30, 50, 70]})</pre><b>In a Jupyter environment, please rerun this cell to show the HTML representation or trust the notebook. <br />On GitHub, the HTML representation is unable to render, please try loading this page with nbviewer.org.</b></div><div class=\"sk-container\" hidden><div class=\"sk-item sk-dashed-wrapped\"><div class=\"sk-label-container\"><div class=\"sk-label sk-toggleable\"><input class=\"sk-toggleable__control sk-hidden--visually\" id=\"sk-estimator-id-4\" type=\"checkbox\" ><label for=\"sk-estimator-id-4\" class=\"sk-toggleable__label sk-toggleable__label-arrow\">GridSearchCV</label><div class=\"sk-toggleable__content\"><pre>GridSearchCV(cv=3, estimator=LGBMRegressor(),\n",
       "             param_grid={&#x27;learning_rate&#x27;: [0.01, 0.1, 1],\n",
       "                         &#x27;n_estimators&#x27;: [100, 200, 300],\n",
       "                         &#x27;num_leaves&#x27;: [30, 50, 70]})</pre></div></div></div><div class=\"sk-parallel\"><div class=\"sk-parallel-item\"><div class=\"sk-item\"><div class=\"sk-label-container\"><div class=\"sk-label sk-toggleable\"><input class=\"sk-toggleable__control sk-hidden--visually\" id=\"sk-estimator-id-5\" type=\"checkbox\" ><label for=\"sk-estimator-id-5\" class=\"sk-toggleable__label sk-toggleable__label-arrow\">estimator: LGBMRegressor</label><div class=\"sk-toggleable__content\"><pre>LGBMRegressor()</pre></div></div></div><div class=\"sk-serial\"><div class=\"sk-item\"><div class=\"sk-estimator sk-toggleable\"><input class=\"sk-toggleable__control sk-hidden--visually\" id=\"sk-estimator-id-6\" type=\"checkbox\" ><label for=\"sk-estimator-id-6\" class=\"sk-toggleable__label sk-toggleable__label-arrow\">LGBMRegressor</label><div class=\"sk-toggleable__content\"><pre>LGBMRegressor()</pre></div></div></div></div></div></div></div></div></div></div>"
      ],
      "text/plain": [
       "GridSearchCV(cv=3, estimator=LGBMRegressor(),\n",
       "             param_grid={'learning_rate': [0.01, 0.1, 1],\n",
       "                         'n_estimators': [100, 200, 300],\n",
       "                         'num_leaves': [30, 50, 70]})"
      ]
     },
     "execution_count": 31,
     "metadata": {},
     "output_type": "execute_result"
    }
   ],
   "source": [
    "gbm = lgb.LGBMRegressor()\n",
    "grid_search = GridSearchCV(gbm, param_grid, cv=3)\n",
    "grid_search.fit(X_train, y_train)\n"
   ]
  },
  {
   "cell_type": "code",
   "execution_count": 36,
   "id": "fb13df6f",
   "metadata": {},
   "outputs": [
    {
     "name": "stdout",
     "output_type": "stream",
     "text": [
      "{'learning_rate': 0.1, 'n_estimators': 100, 'num_leaves': 50}\n"
     ]
    }
   ],
   "source": [
    "print(grid_search.best_params_)"
   ]
  },
  {
   "cell_type": "code",
   "execution_count": 37,
   "id": "617822e6",
   "metadata": {},
   "outputs": [],
   "source": [
    "# Create LightGBM model\n",
    "model = lgb.LGBMRegressor(learning_rate=grid_search.best_params_['learning_rate'],\n",
    "                          num_leaves=grid_search.best_params_['num_leaves'],\n",
    "                          n_estimators=grid_search.best_params_['n_estimators'])"
   ]
  },
  {
   "cell_type": "code",
   "execution_count": 38,
   "id": "76e30b67",
   "metadata": {},
   "outputs": [
    {
     "data": {
      "text/html": [
       "<style>#sk-container-id-3 {color: black;background-color: white;}#sk-container-id-3 pre{padding: 0;}#sk-container-id-3 div.sk-toggleable {background-color: white;}#sk-container-id-3 label.sk-toggleable__label {cursor: pointer;display: block;width: 100%;margin-bottom: 0;padding: 0.3em;box-sizing: border-box;text-align: center;}#sk-container-id-3 label.sk-toggleable__label-arrow:before {content: \"▸\";float: left;margin-right: 0.25em;color: #696969;}#sk-container-id-3 label.sk-toggleable__label-arrow:hover:before {color: black;}#sk-container-id-3 div.sk-estimator:hover label.sk-toggleable__label-arrow:before {color: black;}#sk-container-id-3 div.sk-toggleable__content {max-height: 0;max-width: 0;overflow: hidden;text-align: left;background-color: #f0f8ff;}#sk-container-id-3 div.sk-toggleable__content pre {margin: 0.2em;color: black;border-radius: 0.25em;background-color: #f0f8ff;}#sk-container-id-3 input.sk-toggleable__control:checked~div.sk-toggleable__content {max-height: 200px;max-width: 100%;overflow: auto;}#sk-container-id-3 input.sk-toggleable__control:checked~label.sk-toggleable__label-arrow:before {content: \"▾\";}#sk-container-id-3 div.sk-estimator input.sk-toggleable__control:checked~label.sk-toggleable__label {background-color: #d4ebff;}#sk-container-id-3 div.sk-label input.sk-toggleable__control:checked~label.sk-toggleable__label {background-color: #d4ebff;}#sk-container-id-3 input.sk-hidden--visually {border: 0;clip: rect(1px 1px 1px 1px);clip: rect(1px, 1px, 1px, 1px);height: 1px;margin: -1px;overflow: hidden;padding: 0;position: absolute;width: 1px;}#sk-container-id-3 div.sk-estimator {font-family: monospace;background-color: #f0f8ff;border: 1px dotted black;border-radius: 0.25em;box-sizing: border-box;margin-bottom: 0.5em;}#sk-container-id-3 div.sk-estimator:hover {background-color: #d4ebff;}#sk-container-id-3 div.sk-parallel-item::after {content: \"\";width: 100%;border-bottom: 1px solid gray;flex-grow: 1;}#sk-container-id-3 div.sk-label:hover label.sk-toggleable__label {background-color: #d4ebff;}#sk-container-id-3 div.sk-serial::before {content: \"\";position: absolute;border-left: 1px solid gray;box-sizing: border-box;top: 0;bottom: 0;left: 50%;z-index: 0;}#sk-container-id-3 div.sk-serial {display: flex;flex-direction: column;align-items: center;background-color: white;padding-right: 0.2em;padding-left: 0.2em;position: relative;}#sk-container-id-3 div.sk-item {position: relative;z-index: 1;}#sk-container-id-3 div.sk-parallel {display: flex;align-items: stretch;justify-content: center;background-color: white;position: relative;}#sk-container-id-3 div.sk-item::before, #sk-container-id-3 div.sk-parallel-item::before {content: \"\";position: absolute;border-left: 1px solid gray;box-sizing: border-box;top: 0;bottom: 0;left: 50%;z-index: -1;}#sk-container-id-3 div.sk-parallel-item {display: flex;flex-direction: column;z-index: 1;position: relative;background-color: white;}#sk-container-id-3 div.sk-parallel-item:first-child::after {align-self: flex-end;width: 50%;}#sk-container-id-3 div.sk-parallel-item:last-child::after {align-self: flex-start;width: 50%;}#sk-container-id-3 div.sk-parallel-item:only-child::after {width: 0;}#sk-container-id-3 div.sk-dashed-wrapped {border: 1px dashed gray;margin: 0 0.4em 0.5em 0.4em;box-sizing: border-box;padding-bottom: 0.4em;background-color: white;}#sk-container-id-3 div.sk-label label {font-family: monospace;font-weight: bold;display: inline-block;line-height: 1.2em;}#sk-container-id-3 div.sk-label-container {text-align: center;}#sk-container-id-3 div.sk-container {/* jupyter's `normalize.less` sets `[hidden] { display: none; }` but bootstrap.min.css set `[hidden] { display: none !important; }` so we also need the `!important` here to be able to override the default hidden behavior on the sphinx rendered scikit-learn.org. See: https://github.com/scikit-learn/scikit-learn/issues/21755 */display: inline-block !important;position: relative;}#sk-container-id-3 div.sk-text-repr-fallback {display: none;}</style><div id=\"sk-container-id-3\" class=\"sk-top-container\"><div class=\"sk-text-repr-fallback\"><pre>LGBMRegressor(num_leaves=50)</pre><b>In a Jupyter environment, please rerun this cell to show the HTML representation or trust the notebook. <br />On GitHub, the HTML representation is unable to render, please try loading this page with nbviewer.org.</b></div><div class=\"sk-container\" hidden><div class=\"sk-item\"><div class=\"sk-estimator sk-toggleable\"><input class=\"sk-toggleable__control sk-hidden--visually\" id=\"sk-estimator-id-7\" type=\"checkbox\" checked><label for=\"sk-estimator-id-7\" class=\"sk-toggleable__label sk-toggleable__label-arrow\">LGBMRegressor</label><div class=\"sk-toggleable__content\"><pre>LGBMRegressor(num_leaves=50)</pre></div></div></div></div></div>"
      ],
      "text/plain": [
       "LGBMRegressor(num_leaves=50)"
      ]
     },
     "execution_count": 38,
     "metadata": {},
     "output_type": "execute_result"
    }
   ],
   "source": [
    "# Fit model to training data\n",
    "model.fit(X_train, y_train)"
   ]
  },
  {
   "cell_type": "code",
   "execution_count": 60,
   "id": "e429aeaf",
   "metadata": {},
   "outputs": [],
   "source": [
    "# Make predictions on test set\n",
    "predictions = model.predict(X_test)"
   ]
  },
  {
   "cell_type": "code",
   "execution_count": 43,
   "id": "3159db86",
   "metadata": {},
   "outputs": [
    {
     "name": "stdout",
     "output_type": "stream",
     "text": [
      "Training accuracy 0.9999\n",
      "Testing accuracy 0.9997\n"
     ]
    }
   ],
   "source": [
    "print('Training accuracy {:.4f}'.format(model.score(X_train,y_train)))\n",
    "print('Testing accuracy {:.4f}'.format(model.score(X_test,y_test)))"
   ]
  },
  {
   "cell_type": "code",
   "execution_count": 56,
   "id": "3981954b",
   "metadata": {},
   "outputs": [
    {
     "name": "stdout",
     "output_type": "stream",
     "text": [
      "Mean Absolute Error: 0.93\n",
      "Mean Squared Error: 2.71\n"
     ]
    }
   ],
   "source": [
    "# Evaluating model's peformance using a common metric, mean squared error\n",
    "from sklearn.metrics import mean_squared_error\n",
    "from sklearn.metrics import mean_absolute_error\n",
    "\n",
    "\n",
    "mae = mean_absolute_error(y_test, predictions)\n",
    "mse = mean_squared_error(y_test, predictions)\n",
    "print(f'Mean Absolute Error: {mae:.2f}')\n",
    "print(f'Mean Squared Error: {mse:.2f}')"
   ]
  },
  {
   "cell_type": "code",
   "execution_count": 54,
   "id": "284fb773",
   "metadata": {},
   "outputs": [
    {
     "data": {
      "text/html": [
       "<div>\n",
       "<style scoped>\n",
       "    .dataframe tbody tr th:only-of-type {\n",
       "        vertical-align: middle;\n",
       "    }\n",
       "\n",
       "    .dataframe tbody tr th {\n",
       "        vertical-align: top;\n",
       "    }\n",
       "\n",
       "    .dataframe thead th {\n",
       "        text-align: right;\n",
       "    }\n",
       "</style>\n",
       "<table border=\"1\" class=\"dataframe\">\n",
       "  <thead>\n",
       "    <tr style=\"text-align: right;\">\n",
       "      <th></th>\n",
       "      <th>Actual_Price</th>\n",
       "      <th>Predicted_Price</th>\n",
       "    </tr>\n",
       "    <tr>\n",
       "      <th>Date</th>\n",
       "      <th></th>\n",
       "      <th></th>\n",
       "    </tr>\n",
       "  </thead>\n",
       "  <tbody>\n",
       "    <tr>\n",
       "      <th>2021-09-22 00:00:00-04:00</th>\n",
       "      <td>295.268036</td>\n",
       "      <td>294.290206</td>\n",
       "    </tr>\n",
       "    <tr>\n",
       "      <th>2014-08-19 00:00:00-04:00</th>\n",
       "      <td>39.315380</td>\n",
       "      <td>39.165005</td>\n",
       "    </tr>\n",
       "    <tr>\n",
       "      <th>2018-07-10 00:00:00-04:00</th>\n",
       "      <td>97.038460</td>\n",
       "      <td>97.377315</td>\n",
       "    </tr>\n",
       "    <tr>\n",
       "      <th>2016-07-13 00:00:00-04:00</th>\n",
       "      <td>48.656567</td>\n",
       "      <td>48.658520</td>\n",
       "    </tr>\n",
       "    <tr>\n",
       "      <th>2020-01-16 00:00:00-05:00</th>\n",
       "      <td>161.547562</td>\n",
       "      <td>160.431850</td>\n",
       "    </tr>\n",
       "    <tr>\n",
       "      <th>2013-03-25 00:00:00-04:00</th>\n",
       "      <td>23.412197</td>\n",
       "      <td>23.377745</td>\n",
       "    </tr>\n",
       "    <tr>\n",
       "      <th>2013-03-07 00:00:00-05:00</th>\n",
       "      <td>23.395571</td>\n",
       "      <td>23.449567</td>\n",
       "    </tr>\n",
       "    <tr>\n",
       "      <th>2017-05-24 00:00:00-04:00</th>\n",
       "      <td>64.096626</td>\n",
       "      <td>63.973260</td>\n",
       "    </tr>\n",
       "    <tr>\n",
       "      <th>2014-06-19 00:00:00-04:00</th>\n",
       "      <td>35.778759</td>\n",
       "      <td>36.089113</td>\n",
       "    </tr>\n",
       "    <tr>\n",
       "      <th>2019-11-26 00:00:00-05:00</th>\n",
       "      <td>147.800873</td>\n",
       "      <td>147.002408</td>\n",
       "    </tr>\n",
       "  </tbody>\n",
       "</table>\n",
       "</div>"
      ],
      "text/plain": [
       "                           Actual_Price  Predicted_Price\n",
       "Date                                                    \n",
       "2021-09-22 00:00:00-04:00    295.268036       294.290206\n",
       "2014-08-19 00:00:00-04:00     39.315380        39.165005\n",
       "2018-07-10 00:00:00-04:00     97.038460        97.377315\n",
       "2016-07-13 00:00:00-04:00     48.656567        48.658520\n",
       "2020-01-16 00:00:00-05:00    161.547562       160.431850\n",
       "2013-03-25 00:00:00-04:00     23.412197        23.377745\n",
       "2013-03-07 00:00:00-05:00     23.395571        23.449567\n",
       "2017-05-24 00:00:00-04:00     64.096626        63.973260\n",
       "2014-06-19 00:00:00-04:00     35.778759        36.089113\n",
       "2019-11-26 00:00:00-05:00    147.800873       147.002408"
      ]
     },
     "execution_count": 54,
     "metadata": {},
     "output_type": "execute_result"
    }
   ],
   "source": [
    "dfr=pd.DataFrame({'Actual_Price':y_test, 'Predicted_Price':predictions})\n",
    "dfr.head(10)"
   ]
  },
  {
   "cell_type": "code",
   "execution_count": null,
   "id": "91568e6c",
   "metadata": {},
   "outputs": [],
   "source": []
  },
  {
   "cell_type": "code",
   "execution_count": 42,
   "id": "b189abf7",
   "metadata": {},
   "outputs": [
    {
     "data": {
      "image/png": "[encoded data removed]",
      "text/plain": [
       "<Figure size 640x480 with 1 Axes>"
      ]
     },
     "metadata": {},
     "output_type": "display_data"
    }
   ],
   "source": [
    "# Plot actual vs. predicted values\n",
    "plt.scatter(y_test, predictions)\n",
    "plt.xlabel('Actual Values')\n",
    "plt.ylabel('Predicted Values')\n",
    "plt.title('Actual vs. Predicted Values')\n",
    "plt.show()"
   ]
  },
  {
   "cell_type": "code",
   "execution_count": 44,
   "id": "c604dafb",
   "metadata": {
    "scrolled": true
   },
   "outputs": [
    {
     "data": {
      "text/plain": [
       "<AxesSubplot: title={'center': 'Feature importance'}, xlabel='Feature importance', ylabel='Features'>"
      ]
     },
     "execution_count": 44,
     "metadata": {},
     "output_type": "execute_result"
    },
    {
     "data": {
      "image/png": "[encoded data removed]",
      "text/plain": [
       "<Figure size 640x480 with 1 Axes>"
      ]
     },
     "metadata": {},
     "output_type": "display_data"
    }
   ],
   "source": [
    "lgb.plot_importance(model)"
   ]
  },
  {
   "cell_type": "code",
   "execution_count": 69,
   "id": "c0429add",
   "metadata": {},
   "outputs": [
    {
     "name": "stdout",
     "output_type": "stream",
     "text": [
      "The accuracy of the model is  99.97406988557938\n"
     ]
    }
   ],
   "source": [
    "x2 = y_test.mean()\n",
    "y2 = predictions.mean()\n",
    "Accuracy = x2/y2 * 100\n",
    "print(\"The accuracy of the model is \" , Accuracy)"
   ]
  },
  {
   "cell_type": "markdown",
   "id": "b9df1270",
   "metadata": {},
   "source": [
    "Use the historic data to predict future price. Discuss your methodology and findings.\n",
    "How accurate is the model?\n",
    "Note that for the last bullet we do not expect a model that is highly accurate. We simply want\n",
    "to see your thought process for cleaning &amp; prepping data, model selection, and interpreting the\n",
    "results."
   ]
  },
  {
   "cell_type": "markdown",
   "id": "35a06bc5",
   "metadata": {},
   "source": [
    "It is generally challenging to predict the future price of a single stock with a high degree of accuracy, even using a sophisticated model such as LightGBM. Stock prices are affected by a wide range of factors, including economic conditions, company performance, investor sentiment, and external events, which can be difficult to anticipate or model accurately.\n",
    "\n",
    "To evaluate the accuracy of a LightGBM model for predicting stock prices, it is important to measure its performance on a test set using appropriate evaluation metrics, such as root mean squared error or mean absolute error. It may also be useful to compare the model's performance to other models or to the performance of a baseline model.\n",
    "\n",
    "For this assignment, I performed a basic version of Exploratory Data Analysis (EDA), Training, Validation, Test split, Feature Engineering, Feature Scaling, Hyperparameter Tuning, and applying the Model. EDA allowed me to understand some of the patterns and issues that may impact the model. Splitting the data into training, validation, and test sets enabled me to evaluate the model's performance on unseen data and ensure that it would generalize well to new observations.\n",
    "\n",
    "Feature engineering and feature scaling improved the predictive power of the model and made it more robust. Hyperparameter tuning involved selecting the optimal values to improve the model's performance.\n",
    "\n",
    "However, the model may have overfitted due to the fact that it was trained on only 10 years of stock data. There are also many other factors that can affect stock prices, so it is possible that other models may have performed as well or better. Incorporating additional information or using more advanced techniques could have provided additional insights and may have improved the predictions made by the model.\n",
    "\n",
    "To improve the analysis, I could have used more advanced techniques for EDA such as statistical tests or machine learning algorithms to identify patterns and relationships in the data. For the Training, Validation, Test split, I could have considered using stratified sampling or other sampling techniques and cross-validation to get a more robust estimate of the model's performance. For Feature Engineering, I could have used more advanced techniques such as feature selection and dimensionality reduction to identify the most relevant or informative features, and I could have tried creating higher-order interactions or more complex features. For Feature Scaling, there are other methods available for normalizing features. For Hyperparameter Tuning, I could have tried different optimization methods to find the optimal hyperparameters.\n",
    "\n",
    "A MAE of 0.93 and an MSE of 2.71 indicate that, on average, the model's predictions were off by 0.93 and the squared error was 2.71. These values can be interpreted as the average error or average deviation of the model's predictions from the actual values.\n",
    "\n",
    "Overall, the results suggest that LightGBM performed well on the short 10-year time span of data. However, it is important to keep in mind the limitations of the model and to consider other factors that may impact the stock price.\n",
    "\n",
    "\n"
   ]
  },
  {
   "cell_type": "code",
   "execution_count": null,
   "id": "7ad3bcda",
   "metadata": {},
   "outputs": [],
   "source": []
  }
 ],
 "metadata": {
  "kernelspec": {
   "display_name": "Python 3 (ipykernel)",
   "language": "python",
   "name": "python3"
  },
  "language_info": {
   "codemirror_mode": {
    "name": "ipython",
    "version": 3
   },
   "file_extension": ".py",
   "mimetype": "text/x-python",
   "name": "python",
   "nbconvert_exporter": "python",
   "pygments_lexer": "ipython3",
   "version": "3.9.15"
  }
 },
 "nbformat": 4,
 "nbformat_minor": 5
}
